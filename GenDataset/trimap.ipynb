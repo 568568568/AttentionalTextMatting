{
 "cells": [
  {
   "cell_type": "code",
   "execution_count": 1,
   "metadata": {},
   "outputs": [],
   "source": [
    "import cv2\n",
    "import numpy as np\n",
    "import pickle\n",
    "import os"
   ]
  },
  {
   "cell_type": "code",
   "execution_count": 2,
   "metadata": {},
   "outputs": [],
   "source": [
    "mask_dir = \"/home/pengkang/Downloads/GenDataset/data/mask/\"\n",
    "trimap_dir = \"/home/pengkang/Downloads/GenDataset/data/trimap/\""
   ]
  },
  {
   "cell_type": "code",
   "execution_count": 3,
   "metadata": {},
   "outputs": [],
   "source": [
    "def erode_dilate(msk, struc=\"ELLIPSE\", size=(3, 3)):\n",
    "    if struc == \"RECT\":\n",
    "        kernel = cv2.getStructuringElement(cv2.MORPH_RECT, size)\n",
    "    elif struc == \"CORSS\":\n",
    "        kernel = cv2.getStructuringElement(cv2.MORPH_CROSS, size)\n",
    "    else:\n",
    "        kernel = cv2.getStructuringElement(cv2.MORPH_ELLIPSE, size)\n",
    "\n",
    "\n",
    "    n_fg = (msk!=255)\n",
    "    msk[msk>0]=255\n",
    "    msk = msk/255.\n",
    "\n",
    "    dilated = cv2.dilate(msk, kernel, iterations=np.random.randint(1, 20)) * 255\n",
    "\n",
    "    cnt1 = len(np.where(msk >= 0)[0])\n",
    "    cnt2 = len(np.where(msk == 0)[0])\n",
    "    cnt3 = len(np.where(msk == 1)[0])\n",
    "    # print(\"all:{} bg:{} fg:{}\".format(cnt1, cnt2, cnt3))\n",
    "    assert(cnt1 == cnt2 + cnt3)\n",
    "\n",
    "    cnt1 = len(np.where(dilated >= 0)[0])\n",
    "    cnt2 = len(np.where(dilated == 0)[0])\n",
    "    cnt3 = len(np.where(dilated == 255)[0])\n",
    "    #print(\"all:{} bg:{} fg:{}\".format(cnt1, cnt2, cnt3))\n",
    "    assert(cnt1 == cnt2 + cnt3)\n",
    "\n",
    "    res = dilated.copy()\n",
    "    #res[((dilated == 255) & (msk == 0))] = 128\n",
    "    res[(dilated == 255) &  n_fg]=128\n",
    "    return res.astype(np.uint8)"
   ]
  },
  {
   "cell_type": "code",
   "execution_count": 4,
   "metadata": {},
   "outputs": [],
   "source": [
    "with open(\"/home/pengkang/Downloads/GenDataset/data/new_image_list.pkl\",'rb') as f:\n",
    "    data = pickle.load(f)"
   ]
  },
  {
   "cell_type": "code",
   "execution_count": 5,
   "metadata": {},
   "outputs": [
    {
     "data": {
      "text/plain": [
       "17"
      ]
     },
     "execution_count": 5,
     "metadata": {},
     "output_type": "execute_result"
    }
   ],
   "source": [
    "len(data)"
   ]
  },
  {
   "cell_type": "code",
   "execution_count": 6,
   "metadata": {},
   "outputs": [
    {
     "data": {
      "text/plain": [
       "'0_0.png'"
      ]
     },
     "execution_count": 6,
     "metadata": {},
     "output_type": "execute_result"
    }
   ],
   "source": [
    "data[0]['name']"
   ]
  },
  {
   "cell_type": "code",
   "execution_count": 7,
   "metadata": {},
   "outputs": [
    {
     "data": {
      "text/plain": [
       "256"
      ]
     },
     "execution_count": 7,
     "metadata": {},
     "output_type": "execute_result"
    }
   ],
   "source": [
    "os.system('rm ' + trimap_dir + '*.png')"
   ]
  },
  {
   "cell_type": "code",
   "execution_count": 8,
   "metadata": {},
   "outputs": [],
   "source": [
    "for i in range(len(data)):\n",
    "        msk_name = mask_dir + data[i]['name']\n",
    "        # print(msk_name)\n",
    "        trimap_name = trimap_dir + data[i]['name']\n",
    "        msk = cv2.imread(msk_name, 0)\n",
    "        trimap = erode_dilate(msk)\n",
    "        #print(\"Write to {}\".format(trimap_name))\n",
    "        cv2.imwrite(trimap_name, trimap)\n",
    "        if (i+1) % 500 ==0:\n",
    "            print (i)"
   ]
  },
  {
   "cell_type": "code",
   "execution_count": null,
   "metadata": {},
   "outputs": [],
   "source": []
  }
 ],
 "metadata": {
  "kernelspec": {
   "display_name": "Python 3",
   "language": "python",
   "name": "python3"
  },
  "language_info": {
   "codemirror_mode": {
    "name": "ipython",
    "version": 3
   },
   "file_extension": ".py",
   "mimetype": "text/x-python",
   "name": "python",
   "nbconvert_exporter": "python",
   "pygments_lexer": "ipython3",
   "version": "3.7.9"
  }
 },
 "nbformat": 4,
 "nbformat_minor": 2
}
