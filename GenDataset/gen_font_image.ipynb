{
 "cells": [
  {
   "cell_type": "code",
   "execution_count": 10,
   "metadata": {},
   "outputs": [],
   "source": [
    "import os \n",
    "import PIL\n",
    "import cv2\n",
    "import glob\n",
    "import json\n",
    "import time \n",
    "import pickle\n",
    "import random\n",
    "\n",
    "import numpy as np\n",
    "import matplotlib.pyplot as plt\n",
    "\n",
    "from fontTools.ttLib import TTFont\n",
    "\n",
    "from PIL import Image,ImageDraw,ImageFont,ImageEnhance,ImageFilter\n",
    "\n",
    "%matplotlib inline\n",
    "    "
   ]
  },
  {
   "cell_type": "code",
   "execution_count": 11,
   "metadata": {},
   "outputs": [],
   "source": [
    "output_dir_images = '/home/pengkang/Downloads/GenDataset/data/images/'\n",
    "output_dir_mask = '/home/pengkang/Downloads/GenDataset/data/mask/'\n",
    "output_dir_fg = '/home/pengkang/Downloads/GenDataset/data/fg/'\n",
    "output_dir_bg = '/home/pengkang/Downloads/GenDataset/data/bg/'\n",
    "pickle_path = '/home/pengkang/Downloads/GenDataset/data/'\n",
    "\n",
    "font_dir = '/home/pengkang/Downloads/GenDataset/font/BaiZhouJingShuTi/*.ttf'\n",
    "texture_path = glob.glob('/home/pengkang/Downloads/GenDataset/texture/*.jpg')\n",
    "origin_images = glob.glob('/home/pengkang/Downloads/GenDataset/background/*')\n",
    "font_paths = glob.glob(font_dir)\n",
    "\n",
    "if not os.path.exists(output_dir_images):\n",
    "    os.mkdir(output_dir_images)\n",
    "if not os.path.exists(output_dir_mask):\n",
    "    os.mkdir(output_dir_mask)\n",
    "if not os.path.exists(output_dir_fg):\n",
    "    os.mkdir(output_dir_fg)\n",
    "if not os.path.exists(output_dir_bg):\n",
    "    os.mkdir(output_dir_bg)"
   ]
  },
  {
   "cell_type": "markdown",
   "metadata": {},
   "source": [
    "### Get Words"
   ]
  },
  {
   "cell_type": "code",
   "execution_count": 12,
   "metadata": {},
   "outputs": [],
   "source": [
    "import words\n",
    "simple_words = words.words"
   ]
  },
  {
   "cell_type": "code",
   "execution_count": 13,
   "metadata": {},
   "outputs": [
    {
     "data": {
      "text/plain": [
       "1"
      ]
     },
     "execution_count": 13,
     "metadata": {},
     "output_type": "execute_result"
    }
   ],
   "source": [
    "len(font_paths)"
   ]
  },
  {
   "cell_type": "markdown",
   "metadata": {},
   "source": [
    "### set the range of font sizes"
   ]
  },
  {
   "cell_type": "code",
   "execution_count": 14,
   "metadata": {},
   "outputs": [],
   "source": [
    "min_font_size = 24\n",
    "max_font_size = 164\n",
    "\n",
    "bound_min = 12 \n",
    "bound_max = 24"
   ]
  },
  {
   "cell_type": "markdown",
   "metadata": {},
   "source": [
    "## check wheher the chosen words in the library"
   ]
  },
  {
   "cell_type": "code",
   "execution_count": 15,
   "metadata": {},
   "outputs": [],
   "source": [
    "def get_judge_word(font_path):\n",
    "    font = TTFont(font_path)\n",
    "    uni_list = font['cmap'].tables[0].ttFont.getGlyphOrder()\n",
    "    uni_set = set(uni_list)\n",
    "    def judge(s):\n",
    "        ori = s\n",
    "        a = s.encode(\"unicode-escape\")[2:]\n",
    "        s = 'uni' + ''.join([chr(i) for i in a]).upper()\n",
    "        # print (ori,s in uni_set)\n",
    "        return s in uni_set\n",
    "    return judge\n",
    "\n",
    "def judge_words(s,font_path):\n",
    "    has_word = True\n",
    "    f = get_judge_word(font_path)\n",
    "    for i in range(len(s)):\n",
    "        font = ImageFont.truetype(font=font_path,size=32)\n",
    "        if np.array(font.getmask(s[i])).shape[0] == 0:\n",
    "            has_word = False\n",
    "    return (sum(map(f,s))==len(s) and has_word)"
   ]
  },
  {
   "cell_type": "markdown",
   "metadata": {},
   "source": [
    "## add texture"
   ]
  },
  {
   "cell_type": "code",
   "execution_count": 16,
   "metadata": {},
   "outputs": [],
   "source": [
    "def add_texture(mask_png,fg):\n",
    "    now_path = random.choice(texture_path)\n",
    "    texture = Image.open(now_path)\n",
    "    texture_small  = texture.resize(mask_png.size[:2],resample=PIL.Image.BICUBIC)\n",
    "    \n",
    "    mask = np.array(mask_png,dtype=np.uint8)    \n",
    "    fg_mask = 255 - np.zeros_like(mask,dtype=np.uint8)\n",
    "    output_fg = cv2.seamlessClone(np.array(texture_small),np.array(fg),fg_mask,\n",
    "                                  ((mask_png.size[0])//2,(mask_png.size[1])//2),cv2.NORMAL_CLONE)\n",
    "    return Image.fromarray(output_fg)"
   ]
  },
  {
   "cell_type": "markdown",
   "metadata": {},
   "source": [
    "## get boundary"
   ]
  },
  {
   "cell_type": "code",
   "execution_count": 17,
   "metadata": {},
   "outputs": [],
   "source": [
    "def get_boundary(mask):\n",
    "    mask = np.array(mask)\n",
    "    mask[mask>0] = 1\n",
    "    \n",
    "    X = mask.sum(axis=0)\n",
    "    Y = mask.sum(axis=1)\n",
    "    \n",
    "    X2 = X.cumsum().argmax()\n",
    "    Y2 = Y.cumsum().argmax()\n",
    "    X[X>0] = 1\n",
    "    Y[Y>0] = 1\n",
    "    X1 = X.argmax()\n",
    "    Y1 = Y.argmax()\n",
    "    return X1, Y1, X2, Y2"
   ]
  },
  {
   "cell_type": "code",
   "execution_count": 18,
   "metadata": {},
   "outputs": [],
   "source": [
    "def get_mask(string,font,pos,img_size):\n",
    "    mask_ori, offset = font.getmask2(string,'L')\n",
    "    blank_image = np.zeros(img_size,dtype=np.uint8)\n",
    "    mask_np = np.array(mask_ori).reshape(-1, font.size).astype(np.uint8)\n",
    "    blank_image[pos[1]:pos[1] + mask_np.shape[0],\\\n",
    "                pos[0]:pos[0] + mask_np.shape[1]] = mask_np\n",
    "    return blank_image, mask_np.shape\n",
    "\n",
    "def put_word(string,draw,font,pos,img_size,color):\n",
    "    mask_ori, offset = font.getmask2(string,'L')\n",
    "    \n",
    "    ########## offset calibration ########\n",
    "    x = pos[0] - offset[0]\n",
    "    y = pos[1] - offset[1]\n",
    "    draw.text((x,y),string,font = font,fill = color)\n",
    "\n",
    "\n",
    "def judge_over(mask1,mask2):\n",
    "    return np.sum(mask2[mask1!=0].astype(int))==0\n",
    "\n",
    "def get_pos(center,size):\n",
    "    x=random.gauss(center[0],size)\n",
    "    y=random.gauss(center[1],size)\n",
    "    return [int(x), int(y)]\n",
    "\n",
    "def get_new_pos(center,size):\n",
    "    o_x = random.randint(-size[0]//2,size[0]//2)\n",
    "    o_y = random.randint(-size[1]//2,size[1]//2)\n",
    "    \n",
    "    x = center[0] + o_x + (-(size[0]) if o_x < 0 else size[0]>>1)\n",
    "    y = center[1] + o_y + (-(size[1]) if o_y < 0 else size[1]>>1)\n",
    "\n",
    "    return [x, y]\n",
    "\n",
    "def get_bigger(box):\n",
    "    x1 = box[0] - random.randint(bound_min,bound_max)\n",
    "    y1 = box[1] - random.randint(bound_min,bound_max)\n",
    "    x2 = box[2] + random.randint(bound_min,bound_max)\n",
    "    y2 = box[3] + random.randint(bound_min,bound_max)\n",
    "    return (x1, y1, x2, y2)\n",
    "\n",
    "def put_words(string,img,font_path,draw):\n",
    "    boxes = []\n",
    "    script_text = []\n",
    "    font_name = os.path.basename(font_path)\n",
    "    font_size = random.randint(min_font_size, max_font_size) \n",
    "    font = ImageFont.truetype(font=font_path,size=font_size)    \n",
    "    color = tuple(np.random.randint(0,256,3))\n",
    "    ####### pos #########\n",
    "    w, h = img.size \n",
    "    pos = get_pos((w>>1,h>>1),font_size)\n",
    "    \n",
    "    ###################\n",
    "    fg_image = (np.zeros_like(img)).astype(np.uint8)\n",
    "    fg_image[:,:] = color\n",
    "    fg_image = Image.fromarray(fg_image)\n",
    "    ###################\n",
    "    mask, (font_h,font_w) = get_mask(string[0], font, pos, (h,w))\n",
    "    put_word(string[0], draw, font,pos, (h,w), color)\n",
    "    script_text.append(string)\n",
    "\n",
    "    ####### add more words #########\n",
    "    pos_center = (pos[0] + font_w//2, pos[1]+font_h//2)\n",
    "    for word in string[1:]:\n",
    "        for pat in range(10):\n",
    "            new_pos = get_new_pos(pos_center, (font_w,font_h))\n",
    "            new_mask, _ = get_mask(word, font, new_pos, (h,w))\n",
    "            if (judge_over(new_mask,mask)):\n",
    "                put_word(word,draw,font,new_pos,(h,w),color)\n",
    "                mask=mask|new_mask\n",
    "                break\n",
    "    \n",
    "    #########################\n",
    "    boxes.append(get_boundary(mask))\n",
    "    bbox = get_bigger(boxes[0])\n",
    "    bbox = crop_in_image(img.size,bbox)\n",
    "    string_box = {\"font_name\":font_name,\n",
    "                  \"bboxes\":bbox,\n",
    "                  \"string\":string,\n",
    "                  \"font_size\":font_size,\n",
    "                  \"bound_box\":boxes,\n",
    "                  \"script_text\":script_text}\n",
    "    \n",
    "    return img, string_box, mask, fg_image\n",
    "\n",
    "def crop_in_image(img_size,bbox):\n",
    "    w,h = img_size\n",
    "    x1,y1,x2,y2 = bbox\n",
    "    x1 = x1 if x1 > 0 else 0\n",
    "    x2 = x2 if x2 < w-1 else w-1\n",
    "    y1 = y1 if y1 > 0 else 0\n",
    "    y2 = y2 if y2 < h-1 else h-1\n",
    "    return (x1,y1,x2,y2)\n",
    "\n",
    "\n",
    "def gen_text_randomSize(item,font_paths = font_paths, output_dir_images = output_dir_images,\n",
    "                        output_dir_mask = output_dir_mask,output_dir_fg = output_dir_fg,\n",
    "                        output_dir_bg = output_dir_bg,num_string=25):\n",
    "\n",
    "    index,img_path = item\n",
    "    img = cv2.imread(img_path)[...,::-1]\n",
    "\n",
    "    label_dict = []\n",
    "    coor_l = []\n",
    "    cut_id = 0\n",
    "    for i in range(num_string):\n",
    "        font_path = random.choice(font_paths)\n",
    "        Img = Image.fromarray(img)\n",
    "        draw = ImageDraw.Draw(Img)\n",
    "        fontname = os.path.basename(font_path)\n",
    "        \n",
    "        Flag = 10\n",
    "        while Flag>0:\n",
    "            string = ''.join(random.sample(simple_words,random.randint(1,5)))\n",
    "            Flag -= 1 \n",
    "            try:\n",
    "                if (judge_words(string,font_path)):\n",
    "                    Flag = -1\n",
    "                    break\n",
    "            except:\n",
    "                print(font_path)\n",
    "        if Flag != -1:\n",
    "            continue\n",
    "            \n",
    "        try:\n",
    "            Img,string_box,mask,fg = put_words(string, Img, font_path, draw)\n",
    "        except Exception as e:\n",
    "            print ('wrong 1',e)\n",
    "            continue\n",
    "            \n",
    "        if Img is None:\n",
    "            continue\n",
    "        \n",
    "        img_save_name = '%d_%d' %(index, cut_id) + '.png'\n",
    "        \n",
    "        bbbbox = string_box['bboxes']\n",
    "        \n",
    "        fg_tp = fg.crop(bbbbox)\n",
    "       \n",
    "        mask = mask[bbbbox[1]:bbbbox[3],bbbbox[0]:bbbbox[2]]\n",
    "        mask_png = Image.fromarray(mask.astype(np.uint8))\n",
    "        \n",
    "        if random.random() < 0.8:\n",
    "            fg_tp = add_texture(mask_png, fg_tp) \n",
    "            \n",
    "        bg = Image.fromarray(img).crop(bbbbox)\n",
    "        \n",
    "        ############### Dataset Gen #############\n",
    "        mask_np=mask/255.\n",
    "        fg_np = np.array(fg_tp,dtype=np.float)\n",
    "        bg_np = np.array(bg,dtype=np.float)\n",
    "        new = fg_np*mask_np[...,np.newaxis]+(1.0-mask_np[...,np.newaxis])*bg_np+0.5\n",
    "        new = new.astype(np.uint8)\n",
    "        \n",
    "        img_tp = Image.fromarray(new)\n",
    "        ############### Dataset Gen #############\n",
    "        \n",
    "        img_tp.save(output_dir_images+img_save_name)\n",
    "        mask_png.save(output_dir_mask+img_save_name)\n",
    "        bg.save(output_dir_bg+img_save_name)\n",
    "        fg_tp.save(output_dir_fg+img_save_name)\n",
    "        total_bbox = []\n",
    "        for i in range(len(string_box['bound_box'])):\n",
    "            sub_total_bbox = []\n",
    "            for j in range(4):\n",
    "                sub_total_bbox.append(string_box['bound_box'][i][j] - string_box['bboxes'][j%2])\n",
    "            total_bbox.append(sub_total_bbox)\n",
    "        label_dict.append({'name':img_save_name,'box':total_bbox,'text':string_box['script_text']})\n",
    "        cut_id+=1\n",
    "        \n",
    "        ###############show###############\n",
    "        # uncomment this, when you want to return and plot\n",
    "        # return img_tp,mask_png, bg ,fg_tp\n",
    "        ###############show###############\n",
    "        \n",
    "    return label_dict\n",
    "\n"
   ]
  },
  {
   "cell_type": "markdown",
   "metadata": {},
   "source": [
    "## Data Generation"
   ]
  },
  {
   "cell_type": "code",
   "execution_count": 19,
   "metadata": {},
   "outputs": [
    {
     "name": "stdout",
     "output_type": "stream",
     "text": [
      "wrong 1 could not broadcast input array from shape (122,129) into shape (0,129)\n",
      "CPU times: user 1.18 ms, sys: 4.15 ms, total: 5.32 ms\n",
      "Wall time: 5.82 s\n",
      "5.820515394210815 5\n",
      "done\n",
      "17\n"
     ]
    }
   ],
   "source": [
    "from multiprocessing import Pool,cpu_count\n",
    "os.system('rm '+ output_dir_bg + '*.png')\n",
    "os.system('rm '+ output_dir_fg + '*.png')\n",
    "os.system('rm '+ output_dir_images + '*.png')\n",
    "os.system('rm '+ output_dir_mask + '*.png')\n",
    "\n",
    "# origin_images = random.sample(origin_images,200)\n",
    "indexes_images = [(i,path) for i,path in enumerate(origin_images)]\n",
    "pool = Pool(5)\n",
    "start = time.time()\n",
    "%time result = pool.map(gen_text_randomSize,indexes_images)\n",
    "end = time.time()\n",
    "print(end-start,5)\n",
    "label_dict = []\n",
    "[label_dict.extend(item) for item in result]\n",
    "print('done')\n",
    "\n",
    "with open(pickle_path + '/new_image_list.pkl','wb') as f:\n",
    "    pickle.dump(label_dict,f)\n",
    "print (len(label_dict))"
   ]
  },
  {
   "cell_type": "markdown",
   "metadata": {},
   "source": []
  }
 ],
 "metadata": {
  "kernelspec": {
   "display_name": "Python 3",
   "language": "python",
   "name": "python3"
  },
  "language_info": {
   "codemirror_mode": {
    "name": "ipython",
    "version": 3
   },
   "file_extension": ".py",
   "mimetype": "text/x-python",
   "name": "python",
   "nbconvert_exporter": "python",
   "pygments_lexer": "ipython3",
   "version": "3.7.9"
  }
 },
 "nbformat": 4,
 "nbformat_minor": 2
}
